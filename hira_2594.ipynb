{
  "nbformat": 4,
  "nbformat_minor": 0,
  "metadata": {
    "colab": {
      "provenance": []
    },
    "kernelspec": {
      "name": "python3",
      "display_name": "Python 3"
    },
    "language_info": {
      "name": "python"
    }
  },
  "cells": [
    {
      "cell_type": "code",
      "execution_count": 1,
      "metadata": {
        "colab": {
          "base_uri": "https://localhost:8080/"
        },
        "id": "qNnyAIWo2a0T",
        "outputId": "04b8a074-b5e6-4506-a0d7-7f6d1f97e4b0"
      },
      "outputs": [
        {
          "output_type": "stream",
          "name": "stdout",
          "text": [
            "[1 2 3]\n",
            "<class 'numpy.ndarray'>\n"
          ]
        }
      ],
      "source": [
        "import numpy as np\n",
        "#create a list\n",
        "list1=[1,2,3]\n",
        "array1=np.array(list1)\n",
        "print(array1)\n"
      ]
    },
    {
      "cell_type": "code",
      "source": [
        "import numpy as np\n",
        "list1=[1,2,3]\n",
        "array1=np.array([2,4,6,8])\n",
        "print(array1)\n"
      ],
      "metadata": {
        "colab": {
          "base_uri": "https://localhost:8080/"
        },
        "id": "G9NiMplu_7bi",
        "outputId": "0888b423-867e-4bba-fd9a-d645be24b1f9"
      },
      "execution_count": 3,
      "outputs": [
        {
          "output_type": "stream",
          "name": "stdout",
          "text": [
            "[2 4 6 8]\n"
          ]
        }
      ]
    },
    {
      "cell_type": "code",
      "source": [
        "import numpy as np\n",
        "\n",
        "array1=np.zeros(4)\n",
        "print(array1)"
      ],
      "metadata": {
        "colab": {
          "base_uri": "https://localhost:8080/"
        },
        "id": "EdLVOKs-AdZT",
        "outputId": "9bb57fbc-4111-4a5d-d3db-329ed899b917"
      },
      "execution_count": 5,
      "outputs": [
        {
          "output_type": "stream",
          "name": "stdout",
          "text": [
            "[0. 0. 0. 0.]\n"
          ]
        }
      ]
    },
    {
      "cell_type": "code",
      "source": [
        "import numpy as np\n",
        "array1=np.arange(5)\n",
        "print(array1)\n",
        "array2=np.arange(1,9,2)\n",
        "print(array2)"
      ],
      "metadata": {
        "colab": {
          "base_uri": "https://localhost:8080/"
        },
        "id": "aSx5c0PPAwey",
        "outputId": "4bd80d40-7778-4500-a023-597a3d1838de"
      },
      "execution_count": 7,
      "outputs": [
        {
          "output_type": "stream",
          "name": "stdout",
          "text": [
            "[0 1 2 3 4]\n",
            "[1 3 5 7]\n"
          ]
        }
      ]
    },
    {
      "cell_type": "code",
      "source": [
        "import numpy as np\n",
        "array1=np.random.rand(5)\n",
        "print(array1)"
      ],
      "metadata": {
        "colab": {
          "base_uri": "https://localhost:8080/"
        },
        "id": "Scr-1MueBjEr",
        "outputId": "b34caab4-34a1-4adb-c10a-ce382e8fae12"
      },
      "execution_count": 8,
      "outputs": [
        {
          "output_type": "stream",
          "name": "stdout",
          "text": [
            "[0.20439092 0.88291468 0.75418737 0.15127583 0.46294369]\n"
          ]
        }
      ]
    },
    {
      "cell_type": "code",
      "source": [
        "import numpy as np\n",
        "array1=np.empty(5)\n",
        "print(array1)"
      ],
      "metadata": {
        "colab": {
          "base_uri": "https://localhost:8080/"
        },
        "id": "4Lxd6p-nB4B5",
        "outputId": "9ca2b891-ea44-4db7-96b4-a3dba4b47ca0"
      },
      "execution_count": 9,
      "outputs": [
        {
          "output_type": "stream",
          "name": "stdout",
          "text": [
            "[0.0e+000 4.9e-324 9.9e-324 1.5e-323 2.0e-323]\n"
          ]
        }
      ]
    },
    {
      "cell_type": "code",
      "source": [
        "import numpy as np\n",
        "array1=np.array([[1,2,3,4],\n",
        "                [1,2,5,6]])\n",
        "print(array1)"
      ],
      "metadata": {
        "colab": {
          "base_uri": "https://localhost:8080/"
        },
        "id": "VDcHKBKqCHoz",
        "outputId": "6dace651-bec7-4849-eddd-59f67311908c"
      },
      "execution_count": 11,
      "outputs": [
        {
          "output_type": "stream",
          "name": "stdout",
          "text": [
            "[[1 2 3 4]\n",
            " [1 2 5 6]]\n"
          ]
        }
      ]
    },
    {
      "cell_type": "code",
      "source": [
        "import numpy as np\n",
        "array1=np.array([[[1,2,3,4],\n",
        "                  [5,6,7,8],\n",
        "                  [9,10,11,12]],\n",
        "                 [[13,14,15,16],\n",
        "                 [17,18,19,20],\n",
        "                 [21,22,23,24]]])\n",
        "print( array1 )"
      ],
      "metadata": {
        "colab": {
          "base_uri": "https://localhost:8080/"
        },
        "id": "Wu3PdLYOCMXr",
        "outputId": "32efed50-e925-42f1-fdb2-b4cfcf3b8b43"
      },
      "execution_count": 12,
      "outputs": [
        {
          "output_type": "stream",
          "name": "stdout",
          "text": [
            "[[[ 1  2  3  4]\n",
            "  [ 5  6  7  8]\n",
            "  [ 9 10 11 12]]\n",
            "\n",
            " [[13 14 15 16]\n",
            "  [17 18 19 20]\n",
            "  [21 22 23 24]]]\n"
          ]
        }
      ]
    },
    {
      "cell_type": "code",
      "source": [
        "import numpy as np\n",
        "array1=np.zeros((2,3))\n",
        "print(array1)\n",
        "array2=np.zeros((2,3,4))\n",
        "print(array2)"
      ],
      "metadata": {
        "colab": {
          "base_uri": "https://localhost:8080/"
        },
        "id": "o94ez2zLEMIL",
        "outputId": "28b1382c-fe02-4823-e1d8-73543e427727"
      },
      "execution_count": 13,
      "outputs": [
        {
          "output_type": "stream",
          "name": "stdout",
          "text": [
            "[[0. 0. 0.]\n",
            " [0. 0. 0.]]\n",
            "[[[0. 0. 0. 0.]\n",
            "  [0. 0. 0. 0.]\n",
            "  [0. 0. 0. 0.]]\n",
            "\n",
            " [[0. 0. 0. 0.]\n",
            "  [0. 0. 0. 0.]\n",
            "  [0. 0. 0. 0.]]]\n"
          ]
        }
      ]
    },
    {
      "cell_type": "code",
      "source": [
        "import numpy as np\n",
        "array1=np.random.rand(2,3)\n",
        "print(array1)\n",
        "array2=np.random.rand(2,3,4)\n",
        "print(array2)"
      ],
      "metadata": {
        "colab": {
          "base_uri": "https://localhost:8080/"
        },
        "id": "3mS9R3UWEzFc",
        "outputId": "d9c0f97c-980b-4af9-961f-f2915e6bdfca"
      },
      "execution_count": 17,
      "outputs": [
        {
          "output_type": "stream",
          "name": "stdout",
          "text": [
            "[[0.46612736 0.25673892 0.04957002]\n",
            " [0.46084994 0.1345162  0.94507085]]\n",
            "[[[0.42413821 0.82951561 0.23413441 0.78658944]\n",
            "  [0.97929132 0.55837535 0.37638548 0.34018885]\n",
            "  [0.77597439 0.73046134 0.0416684  0.63059661]]\n",
            "\n",
            " [[0.51596385 0.44367595 0.51076896 0.62088037]\n",
            "  [0.98007475 0.84602039 0.64514854 0.18678131]\n",
            "  [0.06211875 0.60388126 0.57567271 0.19987598]]]\n"
          ]
        }
      ]
    },
    {
      "cell_type": "code",
      "source": [
        "import numpy as np\n",
        "array1=np.full((2,2),5)\n",
        "print(array1)"
      ],
      "metadata": {
        "colab": {
          "base_uri": "https://localhost:8080/"
        },
        "id": "exy7_V8TFJPk",
        "outputId": "c980ee55-fd40-4a1c-eef5-09d69b065ea8"
      },
      "execution_count": 18,
      "outputs": [
        {
          "output_type": "stream",
          "name": "stdout",
          "text": [
            "[[5 5]\n",
            " [5 5]]\n"
          ]
        }
      ]
    },
    {
      "cell_type": "code",
      "source": [
        "import numpy as np\n",
        "array1=np.array([1,3,7],dtype='int32')\n",
        "print(array1,array1.dtype)"
      ],
      "metadata": {
        "id": "BFI11g_jFx5s",
        "outputId": "3a4af685-3cf3-49d9-e1d8-eda8cab377dd",
        "colab": {
          "base_uri": "https://localhost:8080/"
        }
      },
      "execution_count": 21,
      "outputs": [
        {
          "output_type": "stream",
          "name": "stdout",
          "text": [
            "[1 3 7] int32\n"
          ]
        }
      ]
    },
    {
      "cell_type": "code",
      "source": [
        "import numpy as np\n",
        "int_array=np.array([1,3,7,5])\n",
        "print(int_array,int_array.dtype)\n",
        "float_array=int_array.astype('float')\n",
        "print(float_array,float_array.dtype)"
      ],
      "metadata": {
        "id": "_aIQAYv8G1g8",
        "outputId": "bc78a404-8f18-4059-a9b4-cacf8b4794c7",
        "colab": {
          "base_uri": "https://localhost:8080/"
        }
      },
      "execution_count": 23,
      "outputs": [
        {
          "output_type": "stream",
          "name": "stdout",
          "text": [
            "[1 3 7 5] int64\n",
            "[1. 3. 7. 5.] float64\n"
          ]
        }
      ]
    },
    {
      "cell_type": "code",
      "source": [
        "import numpy as np\n",
        "array1=np.array([[1,2,3,4],\n",
        "                [1,2,5,6]])\n",
        "print(array1.shape)\n",
        "print(array1.ndim)\n",
        "print(array1.dtype)\n",
        "print(array1.size)\n"
      ],
      "metadata": {
        "id": "giKdxhQcH7r1",
        "outputId": "82a366e2-e016-459a-914b-9aaa13ea2797",
        "colab": {
          "base_uri": "https://localhost:8080/"
        }
      },
      "execution_count": 25,
      "outputs": [
        {
          "output_type": "stream",
          "name": "stdout",
          "text": [
            "(2, 4)\n",
            "2\n",
            "int64\n",
            "8\n"
          ]
        }
      ]
    },
    {
      "cell_type": "code",
      "source": [
        "import numpy as np\n",
        "array1=np.array([[1,2,3,4],\n",
        "                [1,2,5,6]])\n",
        "np.save('file1.npy',array1)\n"
      ],
      "metadata": {
        "id": "6PSqNaYzI-WM"
      },
      "execution_count": 28,
      "outputs": []
    },
    {
      "cell_type": "code",
      "source": [
        "import numpy as np\n",
        "array1=np.array([1,3,5,7,9])\n",
        "print(array1[0])\n",
        "print(array1[2])\n",
        "print(array1[4])\n"
      ],
      "metadata": {
        "id": "ExIAmMvHJxUN",
        "outputId": "87e132d7-0860-4218-c516-aed5f45bf2a8",
        "colab": {
          "base_uri": "https://localhost:8080/"
        }
      },
      "execution_count": 29,
      "outputs": [
        {
          "output_type": "stream",
          "name": "stdout",
          "text": [
            "1\n",
            "5\n",
            "9\n"
          ]
        }
      ]
    },
    {
      "cell_type": "code",
      "source": [
        "import numpy as np\n",
        "array1=np.array([1,3,5,7,9])\n",
        "array1[0]=10\n",
        "array1[2]=14\n",
        "print(\"the modified array is\")\n",
        "print(array1)"
      ],
      "metadata": {
        "id": "SsKd7lCbKRvF",
        "outputId": "d960c28c-9b95-485a-afe7-cb9eddfec3b1",
        "colab": {
          "base_uri": "https://localhost:8080/"
        }
      },
      "execution_count": 30,
      "outputs": [
        {
          "output_type": "stream",
          "name": "stdout",
          "text": [
            "the modified array is\n",
            "[10  3 14  7  9]\n"
          ]
        }
      ]
    },
    {
      "cell_type": "code",
      "source": [
        "import numpy as np\n",
        "array1=np.array([1,3,5,7,9])\n",
        "print(array1[-1])\n",
        "print(array1[-2])\n",
        "print(array1[-4])\n"
      ],
      "metadata": {
        "id": "NcIrLSwWKvhc",
        "outputId": "9856fa79-e3a8-4206-d40d-df41d3dbcec1",
        "colab": {
          "base_uri": "https://localhost:8080/"
        }
      },
      "execution_count": 31,
      "outputs": [
        {
          "output_type": "stream",
          "name": "stdout",
          "text": [
            "9\n",
            "7\n",
            "3\n"
          ]
        }
      ]
    },
    {
      "cell_type": "code",
      "source": [
        "import numpy as np\n",
        "array1=np.array([1,3,5,7,9,2,4,5,6])\n",
        "print(array1[1:4])\n",
        "print(array1[2:6])\n",
        "print(array1[3:])\n",
        "print(array1[:])\n",
        "#"
      ],
      "metadata": {
        "id": "RtgHgYJGK7PU",
        "outputId": "8562ed98-7287-4124-c6a0-8d12075be1e0",
        "colab": {
          "base_uri": "https://localhost:8080/"
        }
      },
      "execution_count": 32,
      "outputs": [
        {
          "output_type": "stream",
          "name": "stdout",
          "text": [
            "[3 5 7]\n",
            "[5 7 9 2]\n",
            "[7 9 2 4 5 6]\n",
            "[1 3 5 7 9 2 4 5 6]\n"
          ]
        }
      ]
    },
    {
      "cell_type": "code",
      "source": [
        "\n",
        "import numpy as np\n",
        "array1=np.array([1,3,5,7,9,2,4,5,6])\n",
        "array1[3:]=20\n",
        "print(array1)"
      ],
      "metadata": {
        "id": "7-xCrMBbMXG2",
        "outputId": "e8213231-9027-41e9-a5cc-f37ca73a25cc",
        "colab": {
          "base_uri": "https://localhost:8080/"
        }
      },
      "execution_count": 33,
      "outputs": [
        {
          "output_type": "stream",
          "name": "stdout",
          "text": [
            "[ 1  3  5 20 20 20 20 20 20]\n"
          ]
        }
      ]
    },
    {
      "cell_type": "code",
      "source": [
        "import numpy as np\n",
        "array1=np.array([1,3,5,7,9,2,4,5])\n",
        "result1=np.reshape(array1,(4,2))\n",
        "print(result1)\n",
        "result2=np.reshape(array1,(1,8))\n",
        "print(result2)"
      ],
      "metadata": {
        "id": "FNi5Q6SOMmL9",
        "outputId": "5c9fd55b-5b53-4a05-978d-d76ed7a1b0ff",
        "colab": {
          "base_uri": "https://localhost:8080/"
        }
      },
      "execution_count": 36,
      "outputs": [
        {
          "output_type": "stream",
          "name": "stdout",
          "text": [
            "[[1 3]\n",
            " [5 7]\n",
            " [9 2]\n",
            " [4 5]]\n",
            "[[1 3 5 7 9 2 4 5]]\n"
          ]
        }
      ]
    },
    {
      "cell_type": "code",
      "source": [
        "#task1\n",
        "import numpy as np\n",
        "array1=np.arange(10)\n",
        "print(array1)\n",
        "print(array1[1:6])\n"
      ],
      "metadata": {
        "id": "pb7uT3BzODu1",
        "outputId": "a917085a-9456-41bf-cf44-4d8016186803",
        "colab": {
          "base_uri": "https://localhost:8080/"
        }
      },
      "execution_count": 37,
      "outputs": [
        {
          "output_type": "stream",
          "name": "stdout",
          "text": [
            "[0 1 2 3 4 5 6 7 8 9]\n",
            "[1 2 3 4 5]\n"
          ]
        }
      ]
    },
    {
      "cell_type": "code",
      "source": [
        "import numpy as np\n",
        "\n",
        "array = np.random.randint(1, 51, size=(3, 3))\n",
        "\n",
        "sum_of_elements = np.sum(array)\n",
        "\n",
        "print(\"array:\")\n",
        "print(array)\n",
        "print(\"the sum is\")\n",
        "print( sum_of_elements)"
      ],
      "metadata": {
        "id": "YND2SGnSPMmH",
        "outputId": "66858e4e-43b3-4dee-a849-49d123710da5",
        "colab": {
          "base_uri": "https://localhost:8080/"
        }
      },
      "execution_count": 41,
      "outputs": [
        {
          "output_type": "stream",
          "name": "stdout",
          "text": [
            "Matrix:\n",
            "[[ 6 35  3]\n",
            " [14  4 19]\n",
            " [50 34 20]]\n",
            "\n",
            "Sum of all elements: 185\n"
          ]
        }
      ]
    },
    {
      "cell_type": "code",
      "source": [
        "import numpy as np\n",
        "array1=np.linspace(0,20,5)\n",
        "print(array1)\n"
      ],
      "metadata": {
        "id": "YwVBNDqSRr2G",
        "outputId": "326dcb8c-bd77-46c3-96bf-a823fafd1958",
        "colab": {
          "base_uri": "https://localhost:8080/"
        }
      },
      "execution_count": 44,
      "outputs": [
        {
          "output_type": "stream",
          "name": "stdout",
          "text": [
            "[ 0.  5. 10. 15. 20.]\n"
          ]
        }
      ]
    },
    {
      "cell_type": "code",
      "source": [],
      "metadata": {
        "id": "ma80IlLQToF_"
      },
      "execution_count": null,
      "outputs": []
    },
    {
      "cell_type": "code",
      "source": [
        "import numpy as np\n",
        "\n",
        "identity_matrix = np.eye(4)\n",
        "print(\"the identity matrix is\")\n",
        "print(identity_matrix)\n",
        "\n",
        "transpose_matrix = identity_matrix.T\n",
        "print(\"the transpose is\")\n",
        "print(transpose_matrix)"
      ],
      "metadata": {
        "id": "oaYBDa21St2v",
        "outputId": "289e3d5a-6e26-4ac7-9dd0-c753a13a815e",
        "colab": {
          "base_uri": "https://localhost:8080/"
        }
      },
      "execution_count": 46,
      "outputs": [
        {
          "output_type": "stream",
          "name": "stdout",
          "text": [
            "the identity matrix is\n",
            "[[1. 0. 0. 0.]\n",
            " [0. 1. 0. 0.]\n",
            " [0. 0. 1. 0.]\n",
            " [0. 0. 0. 1.]]\n",
            "the transpose is\n",
            "[[1. 0. 0. 0.]\n",
            " [0. 1. 0. 0.]\n",
            " [0. 0. 1. 0.]\n",
            " [0. 0. 0. 1.]]\n"
          ]
        }
      ]
    },
    {
      "cell_type": "code",
      "source": [
        "import numpy as np\n",
        "\n",
        "array = np.random.randint(1, 51, size=(4, 4))\n",
        "min_value = np.min(array)\n",
        "max_value = np.max(array)\n",
        "print(\"array:\")\n",
        "print(array)\n",
        "print(\"the minimum value is\")\n",
        "print(min_value)\n",
        "print(\"the maximum value is\")\n",
        "print(max_value)\n"
      ],
      "metadata": {
        "id": "ILWIn_2xTqwu",
        "outputId": "10b5325c-459d-424e-d343-c4699bb1f02a",
        "colab": {
          "base_uri": "https://localhost:8080/"
        }
      },
      "execution_count": 47,
      "outputs": [
        {
          "output_type": "stream",
          "name": "stdout",
          "text": [
            "array:\n",
            "[[26 27 42 20]\n",
            " [ 7 47 18 27]\n",
            " [33 40 20 29]\n",
            " [ 6  9 36 35]]\n",
            "the minimum value is\n",
            "6\n",
            "the maximum value is\n",
            "47\n"
          ]
        }
      ]
    },
    {
      "cell_type": "code",
      "source": [
        "import numpy as np\n",
        "array1=np.array([1,3,5,7,9,2,4,5,1,2,3,4])\n",
        "print(array1)\n",
        "result1=np.reshape(array1,(3,4))\n",
        "print(result1)\n"
      ],
      "metadata": {
        "id": "o_lgZ9hPT9uH",
        "outputId": "5282ab03-8e74-4b8b-b65b-73cd20597048",
        "colab": {
          "base_uri": "https://localhost:8080/"
        }
      },
      "execution_count": 48,
      "outputs": [
        {
          "output_type": "stream",
          "name": "stdout",
          "text": [
            "[1 3 5 7 9 2 4 5 1 2 3 4]\n",
            "[[1 3 5 7]\n",
            " [9 2 4 5]\n",
            " [1 2 3 4]]\n"
          ]
        }
      ]
    },
    {
      "cell_type": "code",
      "source": [
        "import numpy as np\n",
        "\n",
        "array = np.random.randint(1, 51, size=(5, 5))\n",
        "array[array > 20] = 20\n",
        "\n",
        "# Print the updated array\n",
        "print(array)"
      ],
      "metadata": {
        "id": "d6OCxgv4UnXN",
        "outputId": "4b721eff-b55c-4229-9c75-1829af9a3df5",
        "colab": {
          "base_uri": "https://localhost:8080/"
        }
      },
      "execution_count": 51,
      "outputs": [
        {
          "output_type": "stream",
          "name": "stdout",
          "text": [
            "[[20 20 20  8 13]\n",
            " [20 13 15 20 20]\n",
            " [20 20 13  8 20]\n",
            " [20 20 20 20  9]\n",
            " [20 20 10 12 20]]\n"
          ]
        }
      ]
    },
    {
      "cell_type": "code",
      "source": [
        "import pandas as pd\n",
        "\n",
        "array = {'Name': ['hira', 'urwa', 'faryal', 'areeba', 'ayesha'],\n",
        "        'Age': [25, 30, 22, 28, 26]}\n",
        "\n",
        "df = pd.DataFrame(array)\n",
        "\n",
        "\n",
        "print(df)"
      ],
      "metadata": {
        "id": "L-5-5UN2Vajv",
        "outputId": "7b1dd7b0-68e6-476f-871a-63ff52d082d5",
        "colab": {
          "base_uri": "https://localhost:8080/"
        }
      },
      "execution_count": 52,
      "outputs": [
        {
          "output_type": "stream",
          "name": "stdout",
          "text": [
            "     Name  Age\n",
            "0    hira   25\n",
            "1    urwa   30\n",
            "2  faryal   22\n",
            "3  areeba   28\n",
            "4  ayesha   26\n"
          ]
        }
      ]
    },
    {
      "cell_type": "code",
      "source": [
        "import pandas as pd\n",
        "\n",
        "df = pd.read_csv('STD_DATA new.csv')\n",
        "\n",
        "\n",
        "print(df.head())"
      ],
      "metadata": {
        "id": "-TRPFlDCWZBG",
        "outputId": "cbd6be2c-e7a3-43c0-c69f-6003b5a82db0",
        "colab": {
          "base_uri": "https://localhost:8080/"
        }
      },
      "execution_count": 64,
      "outputs": [
        {
          "output_type": "stream",
          "name": "stdout",
          "text": [
            "    name a b c\n",
            "0    age 1 2 3\n",
            "1  garde a b c\n"
          ]
        }
      ]
    },
    {
      "cell_type": "code",
      "source": [
        "import pandas as pd\n",
        "\n",
        "# Sample DataFrame (replace with your actual DataFrame)\n",
        "d = {'Product': ['A', 'B', 'C'],\n",
        "        'Price': [1, 2, 3],\n",
        "        'Quantity': [20, 30, 40]}\n",
        "df = pd.DataFrame(d)\n",
        "\n",
        "# Calculate total value\n",
        "df['Total'] = df['Price'] * df['Quantity']\n",
        "\n",
        "# Display the updated DataFrame\n",
        "print(df)"
      ],
      "metadata": {
        "id": "U2V6nJGvXVDf",
        "outputId": "342e753f-a04a-442a-b10c-4e06f4eb17b8",
        "colab": {
          "base_uri": "https://localhost:8080/"
        }
      },
      "execution_count": 56,
      "outputs": [
        {
          "output_type": "stream",
          "name": "stdout",
          "text": [
            "  Product  Price  Quantity  Total\n",
            "0       A      1        20     20\n",
            "1       B      2        30     60\n",
            "2       C      3        40    120\n"
          ]
        }
      ]
    },
    {
      "cell_type": "code",
      "source": [
        "import pandas as pd\n",
        "df = pd.DataFrame({'Name': ['hira', 'urwa', 'faryal', 'areeba', 'ayesha'],\n",
        "        'Age': [25, 30, None, 28, 26]})\n",
        "print(df)\n",
        "df.fillna(0, inplace=True)\n",
        "print(df)"
      ],
      "metadata": {
        "id": "PEyl562ZYU_I",
        "outputId": "f81f2893-d04c-41ae-c61a-35b4a867e645",
        "colab": {
          "base_uri": "https://localhost:8080/"
        }
      },
      "execution_count": 58,
      "outputs": [
        {
          "output_type": "stream",
          "name": "stdout",
          "text": [
            "     Name   Age\n",
            "0    hira  25.0\n",
            "1    urwa  30.0\n",
            "2  faryal   NaN\n",
            "3  areeba  28.0\n",
            "4  ayesha  26.0\n",
            "     Name   Age\n",
            "0    hira  25.0\n",
            "1    urwa  30.0\n",
            "2  faryal   0.0\n",
            "3  areeba  28.0\n",
            "4  ayesha  26.0\n"
          ]
        }
      ]
    },
    {
      "cell_type": "code",
      "source": [
        "import pandas as pd\n",
        "import numpy as np\n",
        "df = pd.DataFrame(np.random.rand(5,3), columns=['A', 'B', 'C'])\n",
        "print(df)\n",
        "df.sort_values(by=['A'], inplace=True)\n",
        "print(df)"
      ],
      "metadata": {
        "id": "wQrtFj8XZJuQ",
        "outputId": "98ae4847-d077-451a-be11-e4f805619a1a",
        "colab": {
          "base_uri": "https://localhost:8080/"
        }
      },
      "execution_count": 59,
      "outputs": [
        {
          "output_type": "stream",
          "name": "stdout",
          "text": [
            "          A         B         C\n",
            "0  0.148314  0.342430  0.520366\n",
            "1  0.420111  0.306313  0.328160\n",
            "2  0.155857  0.903591  0.361127\n",
            "3  0.161988  0.369819  0.928119\n",
            "4  0.558383  0.716103  0.132813\n",
            "          A         B         C\n",
            "0  0.148314  0.342430  0.520366\n",
            "2  0.155857  0.903591  0.361127\n",
            "3  0.161988  0.369819  0.928119\n",
            "1  0.420111  0.306313  0.328160\n",
            "4  0.558383  0.716103  0.132813\n"
          ]
        }
      ]
    },
    {
      "cell_type": "code",
      "source": [
        "import pandas as pd\n",
        "df = pd.DataFrame({'Name': ['hira', 'urwa', 'faryal', 'areeba', 'ayesha'],\n",
        "        'Score': [25, 30, 70, 80, 26]})\n",
        "print(df)\n",
        "df[df['Score'] > 50]"
      ],
      "metadata": {
        "id": "ToxfXYpoZPLf",
        "outputId": "b1c25ea3-b2b6-4ff6-a732-17afe26cc2c0",
        "colab": {
          "base_uri": "https://localhost:8080/",
          "height": 216
        }
      },
      "execution_count": 60,
      "outputs": [
        {
          "output_type": "stream",
          "name": "stdout",
          "text": [
            "     Name  Score\n",
            "0    hira     25\n",
            "1    urwa     30\n",
            "2  faryal     70\n",
            "3  areeba     80\n",
            "4  ayesha     26\n"
          ]
        },
        {
          "output_type": "execute_result",
          "data": {
            "text/plain": [
              "     Name  Score\n",
              "2  faryal     70\n",
              "3  areeba     80"
            ],
            "text/html": [
              "\n",
              "  <div id=\"df-cabfd88a-30e9-45ec-988c-b57c5f05da8e\" class=\"colab-df-container\">\n",
              "    <div>\n",
              "<style scoped>\n",
              "    .dataframe tbody tr th:only-of-type {\n",
              "        vertical-align: middle;\n",
              "    }\n",
              "\n",
              "    .dataframe tbody tr th {\n",
              "        vertical-align: top;\n",
              "    }\n",
              "\n",
              "    .dataframe thead th {\n",
              "        text-align: right;\n",
              "    }\n",
              "</style>\n",
              "<table border=\"1\" class=\"dataframe\">\n",
              "  <thead>\n",
              "    <tr style=\"text-align: right;\">\n",
              "      <th></th>\n",
              "      <th>Name</th>\n",
              "      <th>Score</th>\n",
              "    </tr>\n",
              "  </thead>\n",
              "  <tbody>\n",
              "    <tr>\n",
              "      <th>2</th>\n",
              "      <td>faryal</td>\n",
              "      <td>70</td>\n",
              "    </tr>\n",
              "    <tr>\n",
              "      <th>3</th>\n",
              "      <td>areeba</td>\n",
              "      <td>80</td>\n",
              "    </tr>\n",
              "  </tbody>\n",
              "</table>\n",
              "</div>\n",
              "    <div class=\"colab-df-buttons\">\n",
              "\n",
              "  <div class=\"colab-df-container\">\n",
              "    <button class=\"colab-df-convert\" onclick=\"convertToInteractive('df-cabfd88a-30e9-45ec-988c-b57c5f05da8e')\"\n",
              "            title=\"Convert this dataframe to an interactive table.\"\n",
              "            style=\"display:none;\">\n",
              "\n",
              "  <svg xmlns=\"http://www.w3.org/2000/svg\" height=\"24px\" viewBox=\"0 -960 960 960\">\n",
              "    <path d=\"M120-120v-720h720v720H120Zm60-500h600v-160H180v160Zm220 220h160v-160H400v160Zm0 220h160v-160H400v160ZM180-400h160v-160H180v160Zm440 0h160v-160H620v160ZM180-180h160v-160H180v160Zm440 0h160v-160H620v160Z\"/>\n",
              "  </svg>\n",
              "    </button>\n",
              "\n",
              "  <style>\n",
              "    .colab-df-container {\n",
              "      display:flex;\n",
              "      gap: 12px;\n",
              "    }\n",
              "\n",
              "    .colab-df-convert {\n",
              "      background-color: #E8F0FE;\n",
              "      border: none;\n",
              "      border-radius: 50%;\n",
              "      cursor: pointer;\n",
              "      display: none;\n",
              "      fill: #1967D2;\n",
              "      height: 32px;\n",
              "      padding: 0 0 0 0;\n",
              "      width: 32px;\n",
              "    }\n",
              "\n",
              "    .colab-df-convert:hover {\n",
              "      background-color: #E2EBFA;\n",
              "      box-shadow: 0px 1px 2px rgba(60, 64, 67, 0.3), 0px 1px 3px 1px rgba(60, 64, 67, 0.15);\n",
              "      fill: #174EA6;\n",
              "    }\n",
              "\n",
              "    .colab-df-buttons div {\n",
              "      margin-bottom: 4px;\n",
              "    }\n",
              "\n",
              "    [theme=dark] .colab-df-convert {\n",
              "      background-color: #3B4455;\n",
              "      fill: #D2E3FC;\n",
              "    }\n",
              "\n",
              "    [theme=dark] .colab-df-convert:hover {\n",
              "      background-color: #434B5C;\n",
              "      box-shadow: 0px 1px 3px 1px rgba(0, 0, 0, 0.15);\n",
              "      filter: drop-shadow(0px 1px 2px rgba(0, 0, 0, 0.3));\n",
              "      fill: #FFFFFF;\n",
              "    }\n",
              "  </style>\n",
              "\n",
              "    <script>\n",
              "      const buttonEl =\n",
              "        document.querySelector('#df-cabfd88a-30e9-45ec-988c-b57c5f05da8e button.colab-df-convert');\n",
              "      buttonEl.style.display =\n",
              "        google.colab.kernel.accessAllowed ? 'block' : 'none';\n",
              "\n",
              "      async function convertToInteractive(key) {\n",
              "        const element = document.querySelector('#df-cabfd88a-30e9-45ec-988c-b57c5f05da8e');\n",
              "        const dataTable =\n",
              "          await google.colab.kernel.invokeFunction('convertToInteractive',\n",
              "                                                    [key], {});\n",
              "        if (!dataTable) return;\n",
              "\n",
              "        const docLinkHtml = 'Like what you see? Visit the ' +\n",
              "          '<a target=\"_blank\" href=https://colab.research.google.com/notebooks/data_table.ipynb>data table notebook</a>'\n",
              "          + ' to learn more about interactive tables.';\n",
              "        element.innerHTML = '';\n",
              "        dataTable['output_type'] = 'display_data';\n",
              "        await google.colab.output.renderOutput(dataTable, element);\n",
              "        const docLink = document.createElement('div');\n",
              "        docLink.innerHTML = docLinkHtml;\n",
              "        element.appendChild(docLink);\n",
              "      }\n",
              "    </script>\n",
              "  </div>\n",
              "\n",
              "\n",
              "<div id=\"df-fd0d8ac8-c60b-4e93-9b0d-289285580092\">\n",
              "  <button class=\"colab-df-quickchart\" onclick=\"quickchart('df-fd0d8ac8-c60b-4e93-9b0d-289285580092')\"\n",
              "            title=\"Suggest charts\"\n",
              "            style=\"display:none;\">\n",
              "\n",
              "<svg xmlns=\"http://www.w3.org/2000/svg\" height=\"24px\"viewBox=\"0 0 24 24\"\n",
              "     width=\"24px\">\n",
              "    <g>\n",
              "        <path d=\"M19 3H5c-1.1 0-2 .9-2 2v14c0 1.1.9 2 2 2h14c1.1 0 2-.9 2-2V5c0-1.1-.9-2-2-2zM9 17H7v-7h2v7zm4 0h-2V7h2v10zm4 0h-2v-4h2v4z\"/>\n",
              "    </g>\n",
              "</svg>\n",
              "  </button>\n",
              "\n",
              "<style>\n",
              "  .colab-df-quickchart {\n",
              "      --bg-color: #E8F0FE;\n",
              "      --fill-color: #1967D2;\n",
              "      --hover-bg-color: #E2EBFA;\n",
              "      --hover-fill-color: #174EA6;\n",
              "      --disabled-fill-color: #AAA;\n",
              "      --disabled-bg-color: #DDD;\n",
              "  }\n",
              "\n",
              "  [theme=dark] .colab-df-quickchart {\n",
              "      --bg-color: #3B4455;\n",
              "      --fill-color: #D2E3FC;\n",
              "      --hover-bg-color: #434B5C;\n",
              "      --hover-fill-color: #FFFFFF;\n",
              "      --disabled-bg-color: #3B4455;\n",
              "      --disabled-fill-color: #666;\n",
              "  }\n",
              "\n",
              "  .colab-df-quickchart {\n",
              "    background-color: var(--bg-color);\n",
              "    border: none;\n",
              "    border-radius: 50%;\n",
              "    cursor: pointer;\n",
              "    display: none;\n",
              "    fill: var(--fill-color);\n",
              "    height: 32px;\n",
              "    padding: 0;\n",
              "    width: 32px;\n",
              "  }\n",
              "\n",
              "  .colab-df-quickchart:hover {\n",
              "    background-color: var(--hover-bg-color);\n",
              "    box-shadow: 0 1px 2px rgba(60, 64, 67, 0.3), 0 1px 3px 1px rgba(60, 64, 67, 0.15);\n",
              "    fill: var(--button-hover-fill-color);\n",
              "  }\n",
              "\n",
              "  .colab-df-quickchart-complete:disabled,\n",
              "  .colab-df-quickchart-complete:disabled:hover {\n",
              "    background-color: var(--disabled-bg-color);\n",
              "    fill: var(--disabled-fill-color);\n",
              "    box-shadow: none;\n",
              "  }\n",
              "\n",
              "  .colab-df-spinner {\n",
              "    border: 2px solid var(--fill-color);\n",
              "    border-color: transparent;\n",
              "    border-bottom-color: var(--fill-color);\n",
              "    animation:\n",
              "      spin 1s steps(1) infinite;\n",
              "  }\n",
              "\n",
              "  @keyframes spin {\n",
              "    0% {\n",
              "      border-color: transparent;\n",
              "      border-bottom-color: var(--fill-color);\n",
              "      border-left-color: var(--fill-color);\n",
              "    }\n",
              "    20% {\n",
              "      border-color: transparent;\n",
              "      border-left-color: var(--fill-color);\n",
              "      border-top-color: var(--fill-color);\n",
              "    }\n",
              "    30% {\n",
              "      border-color: transparent;\n",
              "      border-left-color: var(--fill-color);\n",
              "      border-top-color: var(--fill-color);\n",
              "      border-right-color: var(--fill-color);\n",
              "    }\n",
              "    40% {\n",
              "      border-color: transparent;\n",
              "      border-right-color: var(--fill-color);\n",
              "      border-top-color: var(--fill-color);\n",
              "    }\n",
              "    60% {\n",
              "      border-color: transparent;\n",
              "      border-right-color: var(--fill-color);\n",
              "    }\n",
              "    80% {\n",
              "      border-color: transparent;\n",
              "      border-right-color: var(--fill-color);\n",
              "      border-bottom-color: var(--fill-color);\n",
              "    }\n",
              "    90% {\n",
              "      border-color: transparent;\n",
              "      border-bottom-color: var(--fill-color);\n",
              "    }\n",
              "  }\n",
              "</style>\n",
              "\n",
              "  <script>\n",
              "    async function quickchart(key) {\n",
              "      const quickchartButtonEl =\n",
              "        document.querySelector('#' + key + ' button');\n",
              "      quickchartButtonEl.disabled = true;  // To prevent multiple clicks.\n",
              "      quickchartButtonEl.classList.add('colab-df-spinner');\n",
              "      try {\n",
              "        const charts = await google.colab.kernel.invokeFunction(\n",
              "            'suggestCharts', [key], {});\n",
              "      } catch (error) {\n",
              "        console.error('Error during call to suggestCharts:', error);\n",
              "      }\n",
              "      quickchartButtonEl.classList.remove('colab-df-spinner');\n",
              "      quickchartButtonEl.classList.add('colab-df-quickchart-complete');\n",
              "    }\n",
              "    (() => {\n",
              "      let quickchartButtonEl =\n",
              "        document.querySelector('#df-fd0d8ac8-c60b-4e93-9b0d-289285580092 button');\n",
              "      quickchartButtonEl.style.display =\n",
              "        google.colab.kernel.accessAllowed ? 'block' : 'none';\n",
              "    })();\n",
              "  </script>\n",
              "</div>\n",
              "\n",
              "    </div>\n",
              "  </div>\n"
            ],
            "application/vnd.google.colaboratory.intrinsic+json": {
              "type": "dataframe",
              "summary": "{\n  \"name\": \"df[df['Score'] > 50]\",\n  \"rows\": 2,\n  \"fields\": [\n    {\n      \"column\": \"Name\",\n      \"properties\": {\n        \"dtype\": \"string\",\n        \"num_unique_values\": 2,\n        \"samples\": [\n          \"areeba\",\n          \"faryal\"\n        ],\n        \"semantic_type\": \"\",\n        \"description\": \"\"\n      }\n    },\n    {\n      \"column\": \"Score\",\n      \"properties\": {\n        \"dtype\": \"number\",\n        \"std\": 7,\n        \"min\": 70,\n        \"max\": 80,\n        \"num_unique_values\": 2,\n        \"samples\": [\n          80,\n          70\n        ],\n        \"semantic_type\": \"\",\n        \"description\": \"\"\n      }\n    }\n  ]\n}"
            }
          },
          "metadata": {},
          "execution_count": 60
        }
      ]
    },
    {
      "cell_type": "code",
      "source": [
        "import pandas as pd\n",
        "import numpy as np\n",
        "df = pd.DataFrame(np.random.randint(0,100,size=(5, 3)), columns=list('ABC'))\n",
        "print(df)\n",
        "df['D'] = df['A'].cumsum()\n",
        "print(df)"
      ],
      "metadata": {
        "id": "F_352S6cZ30g",
        "outputId": "70ca7643-f485-4ff5-e85b-d32595757c09",
        "colab": {
          "base_uri": "https://localhost:8080/"
        }
      },
      "execution_count": 61,
      "outputs": [
        {
          "output_type": "stream",
          "name": "stdout",
          "text": [
            "    A   B   C\n",
            "0  21   3  12\n",
            "1  40  84  85\n",
            "2  71  74  83\n",
            "3  25  24  95\n",
            "4  81  88  59\n",
            "    A   B   C    D\n",
            "0  21   3  12   21\n",
            "1  40  84  85   61\n",
            "2  71  74  83  132\n",
            "3  25  24  95  157\n",
            "4  81  88  59  238\n"
          ]
        }
      ]
    }
  ]
}